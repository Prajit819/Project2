{
 "cells": [
  {
   "cell_type": "code",
   "execution_count": 1,
   "metadata": {
    "collapsed": true
   },
   "outputs": [],
   "source": [
    "import pandas as pd\n",
    "import numpy as nb"
   ]
  },
  {
   "cell_type": "code",
   "execution_count": 2,
   "metadata": {
    "collapsed": true
   },
   "outputs": [],
   "source": [
    "h1b = \"out.csv\""
   ]
  },
  {
   "cell_type": "code",
   "execution_count": 3,
   "metadata": {},
   "outputs": [
    {
     "data": {
      "text/html": [
       "<div>\n",
       "<style>\n",
       "    .dataframe thead tr:only-child th {\n",
       "        text-align: right;\n",
       "    }\n",
       "\n",
       "    .dataframe thead th {\n",
       "        text-align: left;\n",
       "    }\n",
       "\n",
       "    .dataframe tbody tr th {\n",
       "        vertical-align: top;\n",
       "    }\n",
       "</style>\n",
       "<table border=\"1\" class=\"dataframe\">\n",
       "  <thead>\n",
       "    <tr style=\"text-align: right;\">\n",
       "      <th></th>\n",
       "      <th>Unnamed: 0</th>\n",
       "      <th>Unnamed: 0.1</th>\n",
       "      <th>CASE_STATUS</th>\n",
       "      <th>EMPLOYER_NAME</th>\n",
       "      <th>SOC_NAME</th>\n",
       "      <th>JOB_TITLE</th>\n",
       "      <th>FULL_TIME_POSITION</th>\n",
       "      <th>PREVAILING_WAGE</th>\n",
       "      <th>YEAR</th>\n",
       "      <th>WORKSITE</th>\n",
       "      <th>lon</th>\n",
       "      <th>lat</th>\n",
       "    </tr>\n",
       "  </thead>\n",
       "  <tbody>\n",
       "    <tr>\n",
       "      <th>0</th>\n",
       "      <td>685</td>\n",
       "      <td>686</td>\n",
       "      <td>CERTIFIED</td>\n",
       "      <td>MICROSOFT CORPORATION</td>\n",
       "      <td>GENERAL AND OPERATIONS MANAGERS</td>\n",
       "      <td>ASSISTANT GENERAL COUNSEL, CHIEF OF STAFF</td>\n",
       "      <td>Y</td>\n",
       "      <td>162989.0</td>\n",
       "      <td>2016.0</td>\n",
       "      <td>REDMOND, WASHINGTON</td>\n",
       "      <td>-122.121512</td>\n",
       "      <td>47.673988</td>\n",
       "    </tr>\n",
       "    <tr>\n",
       "      <th>1</th>\n",
       "      <td>1003</td>\n",
       "      <td>1004</td>\n",
       "      <td>CERTIFIED</td>\n",
       "      <td>MICROSOFT CORPORATION</td>\n",
       "      <td>GENERAL AND OPERATIONS MANAGERS</td>\n",
       "      <td>CORPORATE VICE PRESIDENT, CUSTOMER SERVICE AND...</td>\n",
       "      <td>Y</td>\n",
       "      <td>162989.0</td>\n",
       "      <td>2016.0</td>\n",
       "      <td>REDMOND, WASHINGTON</td>\n",
       "      <td>-122.121512</td>\n",
       "      <td>47.673988</td>\n",
       "    </tr>\n",
       "    <tr>\n",
       "      <th>2</th>\n",
       "      <td>1473</td>\n",
       "      <td>1474</td>\n",
       "      <td>CERTIFIED</td>\n",
       "      <td>WIPRO LIMITED</td>\n",
       "      <td>GENERAL AND OPERATIONS MANAGERS</td>\n",
       "      <td>ACCOUNT DELIVERY HEAD</td>\n",
       "      <td>Y</td>\n",
       "      <td>106475.0</td>\n",
       "      <td>2016.0</td>\n",
       "      <td>LINCOLN, NEBRASKA</td>\n",
       "      <td>-96.685198</td>\n",
       "      <td>40.825763</td>\n",
       "    </tr>\n",
       "    <tr>\n",
       "      <th>3</th>\n",
       "      <td>1679</td>\n",
       "      <td>1680</td>\n",
       "      <td>CERTIFIED</td>\n",
       "      <td>DELOITTE CONSULTING LLP</td>\n",
       "      <td>GENERAL AND OPERATIONS MANAGERS</td>\n",
       "      <td>MANAGER</td>\n",
       "      <td>Y</td>\n",
       "      <td>113318.0</td>\n",
       "      <td>2016.0</td>\n",
       "      <td>MINNEAPOLIS, MINNESOTA</td>\n",
       "      <td>-93.265011</td>\n",
       "      <td>44.977753</td>\n",
       "    </tr>\n",
       "    <tr>\n",
       "      <th>4</th>\n",
       "      <td>1705</td>\n",
       "      <td>1706</td>\n",
       "      <td>CERTIFIED</td>\n",
       "      <td>WIPRO LIMITED</td>\n",
       "      <td>GENERAL AND OPERATIONS MANAGERS</td>\n",
       "      <td>ACCOUNT DELIVERY HEAD</td>\n",
       "      <td>Y</td>\n",
       "      <td>144893.0</td>\n",
       "      <td>2016.0</td>\n",
       "      <td>LEXINGTON, MASSACHUSETTS</td>\n",
       "      <td>-71.228964</td>\n",
       "      <td>42.443037</td>\n",
       "    </tr>\n",
       "  </tbody>\n",
       "</table>\n",
       "</div>"
      ],
      "text/plain": [
       "   Unnamed: 0  Unnamed: 0.1 CASE_STATUS            EMPLOYER_NAME  \\\n",
       "0         685           686   CERTIFIED    MICROSOFT CORPORATION   \n",
       "1        1003          1004   CERTIFIED    MICROSOFT CORPORATION   \n",
       "2        1473          1474   CERTIFIED            WIPRO LIMITED   \n",
       "3        1679          1680   CERTIFIED  DELOITTE CONSULTING LLP   \n",
       "4        1705          1706   CERTIFIED            WIPRO LIMITED   \n",
       "\n",
       "                          SOC_NAME  \\\n",
       "0  GENERAL AND OPERATIONS MANAGERS   \n",
       "1  GENERAL AND OPERATIONS MANAGERS   \n",
       "2  GENERAL AND OPERATIONS MANAGERS   \n",
       "3  GENERAL AND OPERATIONS MANAGERS   \n",
       "4  GENERAL AND OPERATIONS MANAGERS   \n",
       "\n",
       "                                           JOB_TITLE FULL_TIME_POSITION  \\\n",
       "0          ASSISTANT GENERAL COUNSEL, CHIEF OF STAFF                  Y   \n",
       "1  CORPORATE VICE PRESIDENT, CUSTOMER SERVICE AND...                  Y   \n",
       "2                              ACCOUNT DELIVERY HEAD                  Y   \n",
       "3                                            MANAGER                  Y   \n",
       "4                              ACCOUNT DELIVERY HEAD                  Y   \n",
       "\n",
       "   PREVAILING_WAGE    YEAR                  WORKSITE         lon        lat  \n",
       "0         162989.0  2016.0       REDMOND, WASHINGTON -122.121512  47.673988  \n",
       "1         162989.0  2016.0       REDMOND, WASHINGTON -122.121512  47.673988  \n",
       "2         106475.0  2016.0         LINCOLN, NEBRASKA  -96.685198  40.825763  \n",
       "3         113318.0  2016.0    MINNEAPOLIS, MINNESOTA  -93.265011  44.977753  \n",
       "4         144893.0  2016.0  LEXINGTON, MASSACHUSETTS  -71.228964  42.443037  "
      ]
     },
     "execution_count": 3,
     "metadata": {},
     "output_type": "execute_result"
    }
   ],
   "source": [
    "out_pd = pd.read_csv(h1b, encoding=\"iso-8859-1\", low_memory=False)\n",
    "out_pd.head()"
   ]
  },
  {
   "cell_type": "code",
   "execution_count": 10,
   "metadata": {},
   "outputs": [
    {
     "data": {
      "text/plain": [
       "EMPLOYER_NAME\n",
       "ACCENTURE LLP                                       77081.402697\n",
       "COGNIZANT TECHNOLOGY SOLUTIONS U.S. CORPORATION     70381.561148\n",
       "DELOITTE CONSULTING LLP                             85027.672636\n",
       "ERNST & YOUNG U.S. LLP                             104759.317946\n",
       "HCL AMERICA, INC.                                   69879.275509\n",
       "IBM INDIA PRIVATE LIMITED                          128918.776002\n",
       "INFOSYS LIMITED                                     93261.613233\n",
       "MICROSOFT CORPORATION                               89935.883281\n",
       "TATA CONSULTANCY SERVICES LIMITED                   71986.620095\n",
       "WIPRO LIMITED                                       72752.860715\n",
       "Name: PREVAILING_WAGE, dtype: float64"
      ]
     },
     "execution_count": 10,
     "metadata": {},
     "output_type": "execute_result"
    }
   ],
   "source": [
    "mean_wages = out_pd.groupby([\"EMPLOYER_NAME\"])['PREVAILING_WAGE'].mean()\n",
    "employer_count = out_pd.groupby([\"EMPLOYER_NAME\"])['FULL_TIME_POSITION'].count()\n",
    "mean_wages"
   ]
  },
  {
   "cell_type": "code",
   "execution_count": 12,
   "metadata": {},
   "outputs": [
    {
     "data": {
      "text/html": [
       "<div>\n",
       "<style>\n",
       "    .dataframe thead tr:only-child th {\n",
       "        text-align: right;\n",
       "    }\n",
       "\n",
       "    .dataframe thead th {\n",
       "        text-align: left;\n",
       "    }\n",
       "\n",
       "    .dataframe tbody tr th {\n",
       "        vertical-align: top;\n",
       "    }\n",
       "</style>\n",
       "<table border=\"1\" class=\"dataframe\">\n",
       "  <thead>\n",
       "    <tr style=\"text-align: right;\">\n",
       "      <th></th>\n",
       "      <th>Average Wage</th>\n",
       "      <th>Employee Count</th>\n",
       "    </tr>\n",
       "    <tr>\n",
       "      <th>EMPLOYER_NAME</th>\n",
       "      <th></th>\n",
       "      <th></th>\n",
       "    </tr>\n",
       "  </thead>\n",
       "  <tbody>\n",
       "    <tr>\n",
       "      <th>ACCENTURE LLP</th>\n",
       "      <td>77081.402697</td>\n",
       "      <td>33447</td>\n",
       "    </tr>\n",
       "    <tr>\n",
       "      <th>COGNIZANT TECHNOLOGY SOLUTIONS U.S. CORPORATION</th>\n",
       "      <td>70381.561148</td>\n",
       "      <td>17528</td>\n",
       "    </tr>\n",
       "    <tr>\n",
       "      <th>DELOITTE CONSULTING LLP</th>\n",
       "      <td>85027.672636</td>\n",
       "      <td>36742</td>\n",
       "    </tr>\n",
       "    <tr>\n",
       "      <th>ERNST &amp; YOUNG U.S. LLP</th>\n",
       "      <td>104759.317946</td>\n",
       "      <td>18232</td>\n",
       "    </tr>\n",
       "    <tr>\n",
       "      <th>HCL AMERICA, INC.</th>\n",
       "      <td>69879.275509</td>\n",
       "      <td>22678</td>\n",
       "    </tr>\n",
       "    <tr>\n",
       "      <th>IBM INDIA PRIVATE LIMITED</th>\n",
       "      <td>128918.776002</td>\n",
       "      <td>34219</td>\n",
       "    </tr>\n",
       "    <tr>\n",
       "      <th>INFOSYS LIMITED</th>\n",
       "      <td>93261.613233</td>\n",
       "      <td>130592</td>\n",
       "    </tr>\n",
       "    <tr>\n",
       "      <th>MICROSOFT CORPORATION</th>\n",
       "      <td>89935.883281</td>\n",
       "      <td>25576</td>\n",
       "    </tr>\n",
       "    <tr>\n",
       "      <th>TATA CONSULTANCY SERVICES LIMITED</th>\n",
       "      <td>71986.620095</td>\n",
       "      <td>64726</td>\n",
       "    </tr>\n",
       "    <tr>\n",
       "      <th>WIPRO LIMITED</th>\n",
       "      <td>72752.860715</td>\n",
       "      <td>48117</td>\n",
       "    </tr>\n",
       "  </tbody>\n",
       "</table>\n",
       "</div>"
      ],
      "text/plain": [
       "                                                  Average Wage  Employee Count\n",
       "EMPLOYER_NAME                                                                 \n",
       "ACCENTURE LLP                                     77081.402697           33447\n",
       "COGNIZANT TECHNOLOGY SOLUTIONS U.S. CORPORATION   70381.561148           17528\n",
       "DELOITTE CONSULTING LLP                           85027.672636           36742\n",
       "ERNST & YOUNG U.S. LLP                           104759.317946           18232\n",
       "HCL AMERICA, INC.                                 69879.275509           22678\n",
       "IBM INDIA PRIVATE LIMITED                        128918.776002           34219\n",
       "INFOSYS LIMITED                                   93261.613233          130592\n",
       "MICROSOFT CORPORATION                             89935.883281           25576\n",
       "TATA CONSULTANCY SERVICES LIMITED                 71986.620095           64726\n",
       "WIPRO LIMITED                                     72752.860715           48117"
      ]
     },
     "execution_count": 12,
     "metadata": {},
     "output_type": "execute_result"
    }
   ],
   "source": [
    "employer_numbers = pd.DataFrame({\"Average Wage\":mean_wages,\"Employee Count\":employer_count})\n",
    "employer_numbers"
   ]
  },
  {
   "cell_type": "code",
   "execution_count": 13,
   "metadata": {
    "collapsed": true
   },
   "outputs": [],
   "source": [
    "employer_numbers.to_csv('graphdata.csv')"
   ]
  },
  {
   "cell_type": "code",
   "execution_count": null,
   "metadata": {
    "collapsed": true
   },
   "outputs": [],
   "source": []
  }
 ],
 "metadata": {
  "kernelspec": {
   "display_name": "Python 3",
   "language": "python",
   "name": "python3"
  },
  "language_info": {
   "codemirror_mode": {
    "name": "ipython",
    "version": 3
   },
   "file_extension": ".py",
   "mimetype": "text/x-python",
   "name": "python",
   "nbconvert_exporter": "python",
   "pygments_lexer": "ipython3",
   "version": "3.6.2"
  }
 },
 "nbformat": 4,
 "nbformat_minor": 2
}
